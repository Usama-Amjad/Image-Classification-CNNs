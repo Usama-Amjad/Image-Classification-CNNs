{
  "cells": [
    {
      "cell_type": "markdown",
      "metadata": {
        "id": "k84WTgB0y4NF"
      },
      "source": [
        "# Image Classification with CNN using Keras"
      ]
    },
    {
      "cell_type": "markdown",
      "metadata": {
        "id": "8pKsscd2y4NN"
      },
      "source": [
        "# Task 1: Import Libraries"
      ]
    },
    {
      "cell_type": "code",
      "execution_count": 4,
      "metadata": {
        "id": "dLQxcZYQy4NN",
        "outputId": "1bf29d3b-224a-4cd4-b5de-43ceac8a14b6",
        "colab": {
          "base_uri": "https://localhost:8080/"
        }
      },
      "outputs": [
        {
          "output_type": "stream",
          "name": "stdout",
          "text": [
            "TensorFlow version: 2.12.0\n",
            "Is using GPU? False\n"
          ]
        }
      ],
      "source": [
        "import tensorflow as tf\n",
        "import os\n",
        "import numpy as np\n",
        "\n",
        "from matplotlib import pyplot as plt\n",
        "%matplotlib inline\n",
        "\n",
        "if not os.path.isdir('models'):\n",
        "    os.mkdir('models')\n",
        "    \n",
        "print('TensorFlow version:', tf.__version__)\n",
        "tf.config.list_physical_devices('GPU')\n",
        "print('Is using GPU?', tf.test.is_gpu_available())"
      ]
    },
    {
      "cell_type": "markdown",
      "metadata": {
        "id": "M4lyY093y4NP"
      },
      "source": [
        "# Task 2: Preprocess Data"
      ]
    },
    {
      "cell_type": "code",
      "execution_count": 6,
      "metadata": {
        "id": "5NaMegChy4NP"
      },
      "outputs": [],
      "source": [
        "def get_three_classes(x, y):\n",
        "    indices_0, _ = np.where(y == 0.)\n",
        "    indices_1, _ = np.where(y == 1.)\n",
        "    indices_2, _ = np.where(y == 2.)\n",
        "\n",
        "    indices = np.concatenate([indices_0, indices_1, indices_2], axis=0)\n",
        "    \n",
        "    x = x[indices]\n",
        "    y = y[indices]\n",
        "    \n",
        "    count = x.shape[0]\n",
        "    indices = np.random.choice(range(count), count, replace=False)\n",
        "    \n",
        "    x = x[indices]\n",
        "    y = y[indices]\n",
        "    \n",
        "    y = tf.keras.utils.to_categorical(y)\n",
        "    \n",
        "    return x, y"
      ]
    },
    {
      "cell_type": "code",
      "execution_count": 7,
      "metadata": {
        "id": "4gsd15Vty4NQ",
        "outputId": "997cdd69-2107-4ca6-ae64-97201725f8de",
        "colab": {
          "base_uri": "https://localhost:8080/"
        }
      },
      "outputs": [
        {
          "output_type": "stream",
          "name": "stdout",
          "text": [
            "(15000, 32, 32, 3) (15000, 3)\n",
            "(3000, 32, 32, 3) (3000, 3)\n"
          ]
        }
      ],
      "source": [
        "(x_train,y_train),(x_test,y_test)=tf.keras.datasets.cifar10.load_data() # Original dataset contains 60000 samples\n",
        "x_train , y_train = get_three_classes(x_train , y_train) # Get only first three classes\n",
        "x_test , y_test = get_three_classes(x_test , y_test)\n",
        "\n",
        "print(x_train.shape,y_train.shape)\n",
        "print(x_test.shape,y_test.shape)"
      ]
    },
    {
      "cell_type": "markdown",
      "metadata": {
        "id": "u-XAwp6Oy4NQ"
      },
      "source": [
        "# Task 3: Visualize Examples"
      ]
    },
    {
      "cell_type": "code",
      "execution_count": null,
      "metadata": {
        "id": "JSK0TE3My4NQ"
      },
      "outputs": [],
      "source": [
        "class_names = ['aeroplane', 'car', 'bird']"
      ]
    },
    {
      "cell_type": "code",
      "execution_count": null,
      "metadata": {
        "id": "ue1cK8yIy4NR"
      },
      "outputs": [],
      "source": []
    },
    {
      "cell_type": "markdown",
      "metadata": {
        "id": "Q_LeP0Nvy4NR"
      },
      "source": [
        "# Task 4: Create Model"
      ]
    },
    {
      "cell_type": "code",
      "execution_count": null,
      "metadata": {
        "id": "Ep3jPEORy4NR"
      },
      "outputs": [],
      "source": [
        "from tensorflow.keras.layers import Conv2D, MaxPooling2D, BatchNormalization\n",
        "from tensorflow.keras.layers import Dropout, Flatten, Input, Dense"
      ]
    },
    {
      "cell_type": "markdown",
      "metadata": {
        "id": "2eADjwBPy4NS"
      },
      "source": [
        "# Task 5: Train the Model"
      ]
    },
    {
      "cell_type": "code",
      "execution_count": null,
      "metadata": {
        "id": "dMnrXwGmy4NS"
      },
      "outputs": [],
      "source": []
    },
    {
      "cell_type": "markdown",
      "metadata": {
        "id": "oZFc9joby4NS"
      },
      "source": [
        "# Task 6: Final Predictions"
      ]
    },
    {
      "cell_type": "code",
      "execution_count": null,
      "metadata": {
        "id": "zIjOcW5jy4NT"
      },
      "outputs": [],
      "source": []
    },
    {
      "cell_type": "code",
      "execution_count": null,
      "metadata": {
        "id": "3gQpbn16y4NT"
      },
      "outputs": [],
      "source": []
    },
    {
      "cell_type": "code",
      "execution_count": null,
      "metadata": {
        "id": "AwIO39joy4NU"
      },
      "outputs": [],
      "source": []
    }
  ],
  "metadata": {
    "kernelspec": {
      "display_name": "Python 3",
      "language": "python",
      "name": "python3"
    },
    "language_info": {
      "codemirror_mode": {
        "name": "ipython",
        "version": 3
      },
      "file_extension": ".py",
      "mimetype": "text/x-python",
      "name": "python",
      "nbconvert_exporter": "python",
      "pygments_lexer": "ipython3",
      "version": "3.7.0"
    },
    "colab": {
      "provenance": []
    }
  },
  "nbformat": 4,
  "nbformat_minor": 0
}